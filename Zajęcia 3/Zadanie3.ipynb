{
  "nbformat": 4,
  "nbformat_minor": 0,
  "metadata": {
    "colab": {
      "provenance": []
    },
    "kernelspec": {
      "name": "python3",
      "display_name": "Python 3"
    },
    "language_info": {
      "name": "python"
    }
  },
  "cells": [
    {
      "cell_type": "code",
      "execution_count": null,
      "metadata": {
        "id": "wNurHcvRk9c0"
      },
      "outputs": [],
      "source": [
        "def jest_poprawnym_numerem_telefonu(numer_telefonu):\n",
        "    return numer_telefonu.isdigit() and len(numer_telefonu) == 9\n",
        "\n",
        "def przetworz_numer_telefonu(numer_telefonu):\n",
        "    if '-' in numer_telefonu or ' ' in numer_telefonu:\n",
        "        return ''.join(numer_telefonu.split('-')).replace(' ', '')\n",
        "    else:\n",
        "        return numer_telefonu\n",
        "\n",
        "def zarejestruj_uzytkownika():\n",
        "    imie = input(\"Imię: \")\n",
        "    if imie.isnumeric():\n",
        "      print(\"Niepoprawnie wpisane imie\")\n",
        "      imie = input(\"Imię: \")\n",
        "    nazwisko = input(\"Nazwisko: \")\n",
        "    if nazwisko.isnumeric():\n",
        "      print(\"Niepoprawnie wpisane nazwisko\")\n",
        "      nazwisko = input(\"Nazwisko\")\n",
        "    wiek = input(\"Wiek: \")\n",
        "    if wiek.isalpha():\n",
        "      print(\"Niepoprawnie wpisany wiek\")\n",
        "      wiek = input(\"Wiek: \")\n",
        "    haslo = input(\"Hasło: \")\n",
        "\n",
        "    powtorz_haslo = input(\"Powtórz hasło: \")\n",
        "    while powtorz_haslo != haslo:\n",
        "        print(\"Hasła nie pasują. Proszę spróbować ponownie.\")\n",
        "        powtorz_haslo = input(\"Powtórz hasło: \")\n",
        "\n",
        "    numer_telefonu = input(\"Numer telefonu: \")\n",
        "    while not jest_poprawnym_numerem_telefonu(numer_telefonu):\n",
        "        print(\"Nieprawidłowy numer telefonu. Proszę spróbować ponownie.\")\n",
        "        numer_telefonu = input(\"Numer telefonu: \")\n",
        "\n",
        "    numer_telefonu = przetworz_numer_telefonu(numer_telefonu)\n",
        "\n",
        "    print(\"Rejestracja udana!\")\n",
        "    print(\"Imię:\", imie)\n",
        "    print(\"Nazwisko:\", nazwisko)\n",
        "    print(\"Wiek:\", wiek)\n",
        "    print(\"Hasło:\", haslo)\n",
        "    print(\"Numer telefonu:\", numer_telefonu)\n",
        "\n",
        "zarejestruj_uzytkownika()"
      ]
    }
  ]
}